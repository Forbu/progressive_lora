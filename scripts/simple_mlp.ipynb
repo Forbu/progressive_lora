{
 "cells": [
  {
   "cell_type": "code",
   "execution_count": null,
   "metadata": {},
   "outputs": [],
   "source": [
    "from functools import partial\n",
    "\n",
    "import torch\n",
    "from minlora import (\n",
    "    LoRAParametrization,\n",
    "    add_lora,\n",
    "    apply_to_lora,\n",
    "    merge_lora,\n",
    ")\n",
    "from torch import nn\n",
    "\n",
    "_ = torch.set_grad_enabled(False)"
   ]
  },
  {
   "cell_type": "code",
   "execution_count": null,
   "metadata": {},
   "outputs": [],
   "source": [
    "# init mlp model\n",
    "mlp = nn.Sequential(\n",
    "    nn.Linear(10, 10),\n",
    "    nn.ReLU(),\n",
    "    nn.Linear(10, 10),\n",
    ")\n",
    "\n",
    "\n",
    "lora_config = {\n",
    "    nn.Embedding: {\n",
    "        \"weight\": partial(LoRAParametrization.from_embedding, rank=4),\n",
    "    },\n",
    "    nn.Linear: {\n",
    "        \"weight\": partial(LoRAParametrization.from_linear, rank=4),\n",
    "    },\n",
    "}\n",
    "\n",
    "add_lora(model, lora_config=lora_config)\n",
    "model\n",
    "\n"
   ]
  },
  {
   "cell_type": "code",
   "execution_count": null,
   "metadata": {},
   "outputs": [],
   "source": []
  }
 ],
 "metadata": {
  "language_info": {
   "name": "python"
  },
  "orig_nbformat": 4
 },
 "nbformat": 4,
 "nbformat_minor": 2
}
